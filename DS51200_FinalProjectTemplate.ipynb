{
 "cells": [
  {
   "cell_type": "markdown",
   "id": "45762487-d33f-486d-8e38-2cdea04e3528",
   "metadata": {},
   "source": [
    "# Final Project Report\n",
    "\n",
    "* Class: DS 5100\n",
    "* Student Name: Louis Cocks\n",
    "* Student Net ID: epx8hh\n",
    "* This URL: https://github.com/Lcocks/DS5100_Final_Project/blob/main/Final_Project/DS51200_FinalProjectTemplate.ipynb"
   ]
  },
  {
   "cell_type": "markdown",
   "id": "acf756c1-ecaa-41dc-b6ca-d566eb94560b",
   "metadata": {},
   "source": [
    "# Instructions\n",
    "\n",
    "Follow the instructions in the Final Project isntructions notebook and put evidence of your work in this notebook.\n",
    "\n",
    "Total points for each subsection under **Deliverables** and **Scenarios** are given in parentheses.\n",
    "\n",
    "Breakdowns of points within subsections are specified within subsection instructions as bulleted lists.\n",
    "\n",
    "This project is worth **50 points**."
   ]
  },
  {
   "cell_type": "markdown",
   "id": "89dc7a32-f682-4402-8c1e-b6ccdb3e0e39",
   "metadata": {},
   "source": [
    "# Deliverables"
   ]
  },
  {
   "cell_type": "markdown",
   "id": "d32cb273-9a40-4909-a7ce-51f6e4958d3c",
   "metadata": {},
   "source": [
    "## The Monte Carlo Module (10)\n",
    "\n",
    "- URL included, appropriately named (1).\n",
    "- Includes all three specified classes (3).\n",
    "- Includes at least all 12 specified methods (6; .5 each)."
   ]
  },
  {
   "cell_type": "markdown",
   "id": "f5f3b070-de9e-4de9-bfae-8974d184aa28",
   "metadata": {},
   "source": [
    "Put the URL to your GitHub repo here.\n",
    "\n",
    "Repo URL: https://github.com/Lcocks/DS5100_Final_Project/tree/main"
   ]
  },
  {
   "cell_type": "markdown",
   "id": "162370fb-3729-4c85-b040-8c25b2c966d2",
   "metadata": {},
   "source": [
    "Paste a copyy of your module here.\n",
    "\n",
    "NOTE: Paste as text, not as code. Use triple backticks to wrap your code blocks."
   ]
  },
  {
   "cell_type": "code",
   "execution_count": 7,
   "id": "a0743efc-a785-4b5c-a9e6-b65d4507a67f",
   "metadata": {},
   "outputs": [],
   "source": [
    "'''\n",
    "#Monte_Carlo_Simulator\n",
    "\"\"\"\n",
    "Classes include Die(): Making a die to roll, Game(): Creating a game of rolling dice, and Analyzer(): Looking at metrics of a Game.\n",
    "\n",
    "Requied installations include Pandas and NumPy and Random.\n",
    "\"\"\"\n",
    "import numpy as np\n",
    "import pandas as pd\n",
    "import random\n",
    "\n",
    "\n",
    "\n",
    "#Die Creation.\n",
    "class Die():\n",
    "    \"\"\"\n",
    "    This class is for creating a 100 sided (default count) die stored as a Pandas Dataframe. The number of faces and weights of the die will be adjustable to allow for the die to be used as any other die. \n",
    "    The die can also be customized by the weight to allow for either a fair sided die or a unfairly distributed die.The weights are just positive numbers (integers or floats, including  0).\n",
    "    Die() will initialize a Pandas DataFrame to be used through the class.\n",
    "    inputs: self; faces: Each face of the die will show a unique number associated with that side and its corresponding weight in a Pandas DataFrame. Created with a NumPy Array is mandatory.\n",
    "    \"\"\"\n",
    "\n",
    "    def __init__(self, faces = np.arange(1,101)):\n",
    "        \"\"\"\n",
    "        __init__: This intializer will serve to create the DataFrame, set the initial Face count to 100 unless otherwise fed an Numpy Array, and Weight distribution to 1.0 evenly.\n",
    "                  It will also set the faces to the index of the DataFrame as Faces.\n",
    "        inputs: self; faces: will default to a Numpy Array of 1-100.\n",
    "        returns: No return values.\n",
    "        \"\"\"\n",
    "        self.faces = faces\n",
    "        \n",
    "        if isinstance(faces, np.ndarray) == False:\n",
    "            raise TypeError(\"faces object must be of data type NumPy array and nothing else.\")\n",
    "        \n",
    "        if np.unique(faces).size != len(faces):\n",
    "            raise ValueError(\"The values in the numpy array faces must be distinct values.\")\n",
    "        \n",
    "        _df = pd.DataFrame({'Faces': self.faces, 'Weight': list(1.0 for i in range(len(self.faces)))}).set_index('Faces')\n",
    "        self._df = _df\n",
    "        \n",
    "    def new_weight(self): \n",
    "        \"\"\"\n",
    "        new_weight: This method has user input questions used to decide which Faces to change weights for. It will then adjust the weights held for those Faces within the DataFrame.\n",
    "        inputs: self\n",
    "        returns: No return values.\n",
    "        \"\"\"\n",
    "        chg_face = [int(x.strip()) for x in input(\"Which face would you like to change the weight? note: All faces have a default weight of 1.0.\\nEnter the information in a comma seperated numerical list.\").split(\",\")] #Can take a list of faces to change weights for.\n",
    "        for i in chg_face:  #Checking each value in chg_face list\n",
    "            if not(i in self._df.index.unique(level='Faces')):\n",
    "                raise IndexError(\"A value entered for face selection is not in the array of 1 to 100.\")\n",
    "        weight = float(input(\"What would you like the new weight to be?\")) #Getting input for weight then converting to float, if float fails, value error if non-numerical.\n",
    "        if not type(weight) is float:\n",
    "            raise TypeError(\"Convert to float did not work, please enter a number.\")\n",
    "        #Replacing the axisting weights with the new weight.\n",
    "        for i in chg_face:\n",
    "            self._df.loc[i, 'Weight'] = weight\n",
    "        print(f\"Faces {chg_face} have a new weight of {weight}.\")\n",
    "    \n",
    "    \n",
    "    def die_roll(self, rolls = 1):\n",
    "        \"\"\"\n",
    "        die_roll: This method is used for rolling the create die using the DataFrame holding the data and a Random function random.choices to produce a random Face.\n",
    "                  The default version does not internall store the results, however the internally stored version is commented out if otherwise wanted.\n",
    "        inputs: self; rolls: default to 1.\n",
    "        returns: An instance of rolling the die a number of times.\n",
    "        \"\"\"\n",
    "#Not stored version\n",
    "        return [random.choices(self._df.index, self._df.Weight) for i in range(rolls)] \n",
    "        \n",
    "#Internally stored version\n",
    "#        results = []\n",
    "#        for i in range(rolls):\n",
    "#            roll = random.choices(self._df.index, self._df.Weight)\n",
    "#            results.append(roll)\n",
    "#        return results\n",
    "        \n",
    "    def show_data(self, highlight = False):\n",
    "        \"\"\"\n",
    "        show_data: This method is for displaying the full table of data with its Faces and their corresponding weights with changes highlighted along with a dataframe returned value.\n",
    "                   A custom function highlight_row() will also highlight any weights that do not have the default value of 1.\n",
    "        inputs: self; highlight: default value is False andmethod returns a dataframe, any other input returns a display of the data and highlighted rows.\n",
    "        returns: A fully laid out copy of the private DataFrame if highlight = False, otherwise returns a display of the data and highlighted rows.\n",
    "        \"\"\"\n",
    "        if highlight == False:\n",
    "            return self._df.copy()\n",
    "        \n",
    "        pd.set_option('display.max_rows', None)   #Condition to display all rows\n",
    "        def highlight_row(_df, threshold, column): #Function created to be used to highlight a specific row red if there a number not equal to default 1.0\n",
    "            is_max = pd.Series(data=False, index=_df.index)\n",
    "            is_max['Weight'] = _df.loc['Weight'] != threshold\n",
    "            return ['background-color: red' if is_max.any() else '' for v in is_max]\n",
    "        return self._df.copy().style.apply(highlight_row, threshold=1, column='Weight', axis=1) #Displaying table and highlighted rows\n",
    "        \n",
    "        \n",
    "\n",
    "\n",
    "#Playing a Game with dice.\n",
    "class Game():\n",
    "    \"\"\"\n",
    "    This class is for creating a Die rolling game that has the same number of sides for each die but the weights can vary for the die.\n",
    "    Each game is initialized with a Python list that contains one or more dice of the Die() object type.\n",
    "    Game objects have a behavior to play a game, i.e. to roll all of the dice a given number of times.\n",
    "    Game objects only keep the results of their most recent play.\n",
    "    inputs: self; dice: A Die() object wrapped in a python list to be a singular Die() or many.\n",
    "    \"\"\"\n",
    "    \n",
    "    def __init__(self, dice):\n",
    "        \"\"\"\n",
    "        __init__: This initializer will need a list of Die in a list format. It will insure that the number of entered Faces for each Die are equal.\n",
    "        inputs: self; dice: has no default as a list of Die's created through another class is required.\n",
    "        returns: No return values.\n",
    "        \"\"\"\n",
    "        self.dice = dice\n",
    "        #Returning a ValueError if the input dice are not in list format.\n",
    "        try:\n",
    "            len(self.dice[0]._df.index)\n",
    "        except TypeError as e:\n",
    "            print(\"Your Dice must be in a list!.\")\n",
    "            \n",
    "        #Returning a ValueError if the number of Faces do no align with each other.\n",
    "        _length = len(self.dice[0]._df.index)\n",
    "        for i in range(len(self.dice)):\n",
    "            if i > 0:\n",
    "                if _length != len(self.dice[i]._df.index):\n",
    "                    raise ValueError(\"The number of Faces for at least one of the Die are not the same as the others!\")\n",
    "    \n",
    "    def play(self, dice_rolls = 1):\n",
    "        \"\"\"\n",
    "        play: This method is used for rolling all of the Dice given to the class a specified number of times and storing those results in a private dataframe.\n",
    "        inputs: self; dice_rolls: defaults to 1 for 1 rolling of each Die.\n",
    "        returns: No return values.\n",
    "        \"\"\"\n",
    "        dice_rolls = abs(dice_rolls)\n",
    "        #Private dataframe instantiation\n",
    "        _dice_rolling_results = pd.DataFrame()\n",
    "        \n",
    "        for i in range(len(self.dice)):\n",
    "            _roll_result = pd.DataFrame(random.choices(self.dice[i]._df.index, self.dice[i]._df.Weight) for j in range(dice_rolls))\n",
    "            _dice_rolling_results = pd.concat([_dice_rolling_results,_roll_result], axis = 1)\n",
    "        _dice_rolling_results.columns = [k for k in range(len(self.dice))]\n",
    "        \n",
    "        self._dice_rolling_results = _dice_rolling_results\n",
    "#For testing        \n",
    "        #return _dice_rolling_results\n",
    "        \n",
    "    def results(self, df_format = 1):\n",
    "        \"\"\"\n",
    "        results: This method is used to display the rolling results in either a Wide (default) or Narrow formatted dataframe.\n",
    "        inputs: self; df_format: defaults to 1 and will only accept either 1 (corresponding to Wide) or 2 (corresponding to Narrow).\n",
    "        returns: A copy of the private dataframe in the specified format.\n",
    "        \"\"\"\n",
    "        if not(df_format in (1,2)):\n",
    "            raise ValueError(\"Formatting can only be entered as '1' for Wide or '2' for Narrow.\")\n",
    "        \n",
    "        copy = self._dice_rolling_results.copy(deep = True) \n",
    "        \n",
    "        if df_format == 1:\n",
    "            df_wide = copy.rename_axis('Roll Number').rename_axis('Die', axis = 'columns')\n",
    "            return df_wide\n",
    "        else:\n",
    "            cols = copy.columns.to_list()\n",
    "            df_narrow = pd.melt(copy, value_vars = cols).set_index('variable', append = True)\n",
    "            df_narrow.index.names = ['Roll Number', 'Die']\n",
    "            return df_narrow\n",
    "\n",
    "\n",
    "\n",
    "#Analyzing a Game of rolled Dice\n",
    "class Analyzer():\n",
    "    \"\"\"\n",
    "    This class will take the results of a single game and compute various descriptive statistical properties about said game.\n",
    "    inputs: self; game: A Game() object of which the play() method of Game() has been run for, to insure a .\n",
    "    \"\"\"\n",
    "    def __init__(self, game):\n",
    "        \"\"\"\n",
    "        __init__: The initializer will require a Game instance be input and verify its correct object orientation.\n",
    "        inputs: self; game: has no default as a Game object is required.\n",
    "        returns: No return values.\n",
    "        \"\"\"\n",
    "        self.game = game\n",
    "        #testing will require using the two classes Die() and Game().\n",
    "        if isinstance(self.game, type(Game([Die()]))) == False:\n",
    "            raise ValueError(\"The passed object is not a Game, passing only a Game type object will work.\")\n",
    "        \n",
    "    def jackpot(self):\n",
    "        \"\"\"\n",
    "        jackpot: This method will be used to calculate if all the Die, when rolled, land on the same Face. This is considered a jackpot.\n",
    "        inputs: self\n",
    "        returns: An integer value for the number of jackpots achieved in a game.\n",
    "        \"\"\"\n",
    "        jackpot_count = (self.game.results().nunique(axis=1) == 1).sum()\n",
    "        if len(self.game.results().nunique(axis=0)) == 1:\n",
    "            print('Cannot get a jackpot with 1 die! Try again with multiple.')\n",
    "            return\n",
    "        return int(jackpot_count)\n",
    "        \n",
    "    def face_count_per_roll(self):\n",
    "        \"\"\"\n",
    "        face_count_per_roll: This method is for counting and siplaying each of the times a certain face of the die is rolled for each of the rolls attempted. \n",
    "        inputs: self\n",
    "        returns: A dataframe with the possible faces rolled as the columns and each roll instance of the dice as the index. The values show the number of times (count) each of the faces is rolled.\n",
    "        \"\"\"\n",
    "        return self.game.results().apply(pd.Series.value_counts, axis=1).fillna(0).astype(int)\n",
    "        \n",
    "    def combo_count(self):\n",
    "        \"\"\"\n",
    "        combo_count: This method will create a new dataframe containing the counts of each distinct combination (of any order i.e. sorting each row) of faces rolled among the dice in each roll.\n",
    "        inputs: self\n",
    "        returns: A dataframe with a multiindex for the rows and Combination for each distinct combination, and the column Frequency for the count for how many times the combination occurs in the game.\n",
    "        \"\"\"\n",
    "        combo_df = self.game.results().apply(lambda row: list(sorted(row)), axis = 1)\n",
    "        combo_df = combo_df.value_counts().reset_index(name = 'Frequency').rename(columns = {'index': 'Combination'})\n",
    "        return combo_df\n",
    "        \n",
    "    def permutation(self):\n",
    "        \"\"\"\n",
    "        permutation: This method will create a new dataframe containing the counts of each distinct combination (of only the rolled order) of faces in their current rolled order \"\"\"\\\n",
    "        \"\"\"for each of the times rolled in the game.\n",
    "        inputs: self\n",
    "        returns: A dataframe with the mutltiindex for rows and Combination for each distinct combination, and the count Frequency for how many times that combination occurs in the game.\n",
    "        \"\"\"\n",
    "        perm_df = self.game.results().apply(lambda row: list(row), axis = 1)\n",
    "        perm_df = perm_df.value_counts().reset_index(name = 'Frequency').rename(columns = {'index': 'Combination'})\n",
    "        return perm_df\n",
    "'''"
   ]
  },
  {
   "cell_type": "markdown",
   "id": "6377727a-8f0a-491e-9f1c-d9dc225edd35",
   "metadata": {},
   "source": [
    "## Unitest Module (2)\n",
    "\n",
    "Paste a copy of your test module below.\n",
    "\n",
    "NOTE: Paste as text, not as code. Use triple backticks to wrap your code blocks.\n",
    "\n",
    "- All methods have at least one test method (1).\n",
    "- Each method employs one of Unittest's Assert methods (1)."
   ]
  },
  {
   "cell_type": "code",
   "execution_count": 2,
   "id": "14b878d8-258b-4cf2-ad88-b8ee90d43977",
   "metadata": {},
   "outputs": [],
   "source": [
    "'''\n",
    "#Monte_Carlo_Simulator_test.py\n",
    "from unittest import mock\n",
    "import unittest\n",
    "import pandas as pd\n",
    "from Monte_Carlo_Simulator.Monte_Carlo_Simulator import Die, Game, Analyzer\n",
    "#The first Monte_Carlo_Simulator is for the directory then the python file is named Monte_Carlo_Simulator therefore Monte_Carlo_Simulator.Monte_Carlo_Simulator--\n",
    "class test_objectSuite(unittest.TestCase):\n",
    "    \"\"\"\n",
    "    This class is for testing the Project_Dice.py file and it corresponding classes and methods.\n",
    "    From unittest - mock will allow for inputs made by a user to be preset for testing.\n",
    "    \"\"\"\n",
    "    \n",
    "    #Die()\n",
    "    \n",
    "    def test_1_Die(self):\n",
    "        \n",
    "        test_object = Die()\n",
    "        \n",
    "        self.assertIsInstance(test_object, Die)\n",
    "        \n",
    "    @mock.patch('Monte_Carlo_Simulator.Monte_Carlo_Simulator.input', create=True)\n",
    "    def test_2_new_weight(self, mocked_input):\n",
    "        \n",
    "        mocked_input.side_effect = ['1,2,3', '1.5']\n",
    "        \n",
    "        test_object = Die()\n",
    "        test_object.new_weight() #The mocked_input.side_effect is the input values 1,2,3 for the Faces selected then the input is 1.0 for what to change the weights of the faces too.\n",
    "        \n",
    "        default = Die()\n",
    "\n",
    "        self.assertNotEqual(test_object._df.loc[1,'Weight'], default._df.loc[1,'Weight']) #Testing the change of weights.\n",
    "        self.assertEqual(type(test_object._df), type(default._df)) #Testing the data structure output.\n",
    "    \n",
    "    def test_3_die_roll(self):\n",
    "        \n",
    "        test_object = Die()\n",
    "        test_object.die_roll()\n",
    "        \n",
    "        self.assertTrue(isinstance(test_object.die_roll(), list))\n",
    "    \n",
    "    def test_4_show_data(self):\n",
    "        \n",
    "        test_object = Die()\n",
    "        \n",
    "        self.assertTrue(isinstance(test_object.show_data(), type(pd.DataFrame()))) #Testing for the regular dataframe output.\n",
    "        \n",
    "        self.assertEqual(type(test_object.show_data(2)), type(pd.DataFrame().style)) #Testing for the table return with styling.\n",
    "    \n",
    "    #Game()\n",
    "    def test_5_Game(self):\n",
    "        \n",
    "        test_object = Game([Die()])\n",
    "        \n",
    "        self.assertIsInstance(test_object, Game)\n",
    "        \n",
    "    def test_6_play(self):\n",
    "        \n",
    "        test_object = Game([Die()])\n",
    "        test_object.play()\n",
    "        \n",
    "        self.assertTrue(type(getattr(test_object,'_dice_rolling_results')), type(pd.DataFrame()))\n",
    "        \n",
    "    def test_7_results(self):\n",
    "        \n",
    "        test_object = Game([Die()])\n",
    "        test_object.play()\n",
    "        \n",
    "        self.assertTrue(isinstance(test_object.results(), type(pd.DataFrame()))) #Testing for the wide formatted data frame.\n",
    "        \n",
    "        self.assertTrue(isinstance(test_object.results(2), type(pd.DataFrame()))) #Testing for the narrow formatted data frame.\n",
    "    \n",
    "    #Analyzer()\n",
    "    def test_8_Analyzer(self):\n",
    "        \n",
    "        test_object = Game([Die()])\n",
    "        test_object.play()\n",
    "        test_object = Analyzer(test_object)\n",
    "        \n",
    "        self.assertIsInstance(test_object, Analyzer)\n",
    "        \n",
    "    def test_9_jackpot(self):\n",
    "    \n",
    "        test_object = Game([Die()])\n",
    "        test_object.play()\n",
    "        if len(test_object.results().nunique(axis=0)) == 1:\n",
    "\n",
    "            self.assertEqual(len(test_object.results().nunique(axis=0)), 1) #Testing code with a single die rolled.\n",
    "        else:    \n",
    "            test_object = Analyzer(test_object)\n",
    "        \n",
    "            self.assertTrue(isinstance(test_object.jackpot(), int)) #Testing code with multiple die rolled (true jackpot).\n",
    "    \n",
    "    def test_10_face_count_per_roll(self):\n",
    "        \n",
    "        test_object = Game([Die()])\n",
    "        test_object.play()\n",
    "        test_object = Analyzer(test_object)\n",
    "        \n",
    "        self.assertTrue(isinstance(test_object.face_count_per_roll(), type(pd.DataFrame())))\n",
    "        \n",
    "    def test_11_combo_count(self):\n",
    "        \n",
    "        test_object = Game([Die()])\n",
    "        test_object.play()\n",
    "        test_object = Analyzer(test_object)\n",
    "        \n",
    "        self.assertTrue(isinstance(test_object.combo_count(), type(pd.DataFrame())))\n",
    "        \n",
    "    def test_12_permutation(self):\n",
    "        \n",
    "        test_object = Game([Die()])\n",
    "        test_object.play()\n",
    "        test_object = Analyzer(test_object)\n",
    "        \n",
    "        self.assertTrue(isinstance(test_object.permutation(), type(pd.DataFrame())))\n",
    "        \n",
    "\n",
    "        \n",
    "if __name__ == '__main__':\n",
    "    \n",
    "    unittest.main()\n",
    "'''"
   ]
  },
  {
   "cell_type": "markdown",
   "id": "3e058d03-29bc-408f-b36d-0605b4f4b8c0",
   "metadata": {
    "tags": []
   },
   "source": [
    "## Unittest Results (3)\n",
    "\n",
    "Put a copy of the results of running your tests from the command line here.\n",
    "\n",
    "Again, paste as text using triple backticks.\n",
    "\n",
    "- All 12 specified methods return OK (3; .25 each)."
   ]
  },
  {
   "cell_type": "raw",
   "id": "54691fd0-836c-43c7-adc9-4a09d8aa9ab2",
   "metadata": {
    "tags": []
   },
   "source": [
    "epx8hh@rivanna> python Monte_Carlo_Simulator_test.py \n",
    "Welcome to the Monte_Carlo_Simulator dice game module! \n",
    "  Available classes include Die(), Game(), and Analyzer()\n",
    "....Face(s) [1, 2, 3] have a new weight of 1.5.\n",
    "........\n",
    "----------------------------------------------------------------------\n",
    "Ran 12 tests in 0.804s\n",
    "\n",
    "OK"
   ]
  },
  {
   "cell_type": "markdown",
   "id": "d9ffe8c5-eb2f-4ad1-af76-a46550e4c7ac",
   "metadata": {},
   "source": [
    "## Import (1)\n",
    "\n",
    "Import your module here. This import should refer to the code in your package directory.\n",
    "\n",
    "- Module successuflly imported (1)."
   ]
  },
  {
   "cell_type": "code",
   "execution_count": 169,
   "id": "a05dffb3-e6d6-4f78-9df4-5abd0cf74ca9",
   "metadata": {
    "tags": []
   },
   "outputs": [],
   "source": [
    "from Monte_Carlo_Simulator import Monte_Carlo_Simulator #Using this for my message :)"
   ]
  },
  {
   "cell_type": "markdown",
   "id": "f30c4842-65b1-4556-98b6-3fe1a07e1371",
   "metadata": {},
   "source": [
    "## Help Docs (4)\n",
    "\n",
    "Show your docstring documentation by applying `help()` to your imported module.\n",
    "\n",
    "- All methods have a docstring (3; .25 each).\n",
    "- All classes have a docstring (1; .33 each)."
   ]
  },
  {
   "cell_type": "code",
   "execution_count": 170,
   "id": "bf4fbf1f-9885-471c-a0a6-e9ca90e160de",
   "metadata": {
    "tags": []
   },
   "outputs": [
    {
     "name": "stdout",
     "output_type": "stream",
     "text": [
      "Help on module Monte_Carlo_Simulator.Monte_Carlo_Simulator in Monte_Carlo_Simulator:\n",
      "\n",
      "NAME\n",
      "    Monte_Carlo_Simulator.Monte_Carlo_Simulator - Classes include Die(): Making a die to roll, Game(): Creating a game of rolling dice, and Analyzer(): Looking at metrics of a Game.\n",
      "\n",
      "DESCRIPTION\n",
      "    Requied installations include Pandas and NumPy and Random.\n",
      "\n",
      "CLASSES\n",
      "    builtins.object\n",
      "        Analyzer\n",
      "        Die\n",
      "        Game\n",
      "    \n",
      "    class Analyzer(builtins.object)\n",
      "     |  Analyzer(game)\n",
      "     |  \n",
      "     |  This class will take the results of a single game and compute various descriptive statistical properties about said game.\n",
      "     |  inputs: self; game: A Game() object of which the play() method of Game() has been run for, to insure a .\n",
      "     |  \n",
      "     |  Methods defined here:\n",
      "     |  \n",
      "     |  __init__(self, game)\n",
      "     |      __init__: The initializer will require a Game instance be input and verify its correct object orientation.\n",
      "     |      inputs: self; game: has no default as a Game object is required.\n",
      "     |      returns: No return values.\n",
      "     |  \n",
      "     |  combo_count(self)\n",
      "     |      combo_count: This method will create a new dataframe containing the counts of each distinct combination (of any order i.e. sorting each row) of faces rolled among the dice in each roll.\n",
      "     |      inputs: self\n",
      "     |      returns: A dataframe with a multiindex for the rows and Combination for each distinct combination, and the column Frequency for the count for how many times the combination occurs in the game.\n",
      "     |  \n",
      "     |  face_count_per_roll(self)\n",
      "     |      face_count_per_roll: This method is for counting and siplaying each of the times a certain face of the die is rolled for each of the rolls attempted. \n",
      "     |      inputs: self\n",
      "     |      returns: A dataframe with the possible faces rolled as the columns and each roll instance of the dice as the index. The values show the number of times (count) each of the faces is rolled.\n",
      "     |  \n",
      "     |  jackpot(self)\n",
      "     |      jackpot: This method will be used to calculate if all the Die, when rolled, land on the same Face. This is considered a jackpot.\n",
      "     |      inputs: self\n",
      "     |      returns: An integer value for the number of jackpots achieved in a game.\n",
      "     |  \n",
      "     |  permutation(self)\n",
      "     |      permutation: This method will create a new dataframe containing the counts of each distinct combination (of only the rolled order) of faces in their current rolled order for each of the times rolled in the game.\n",
      "     |      inputs: self\n",
      "     |      returns: A dataframe with the mutltiindex for rows and Combination for each distinct combination, and the count Frequency for how many times that combination occurs in the game.\n",
      "     |  \n",
      "     |  ----------------------------------------------------------------------\n",
      "     |  Data descriptors defined here:\n",
      "     |  \n",
      "     |  __dict__\n",
      "     |      dictionary for instance variables (if defined)\n",
      "     |  \n",
      "     |  __weakref__\n",
      "     |      list of weak references to the object (if defined)\n",
      "    \n",
      "    class Die(builtins.object)\n",
      "     |  Die(faces=array([  1,   2,   3,   4,   5,   6,   7,   8,   9,  10,  11,  12,  13,\n",
      "     |          14,  15,  16,  17,  18,  19,  20,  21,  22,  23,  24,  25,  26,\n",
      "     |          27,  28,  29,  30,  31,  32,  33,  34,  35,  36,  37,  38,  39,\n",
      "     |          40,  41,  42,  43,  44,  45,  46,  47,  48,  49,  50,  51,  52,\n",
      "     |          53,  54,  55,  56,  57,  58,  59,  60,  61,  62,  63,  64,  65,\n",
      "     |          66,  67,  68,  69,  70,  71,  72,  73,  74,  75,  76,  77,  78,\n",
      "     |          79,  80,  81,  82,  83,  84,  85,  86,  87,  88,  89,  90,  91,\n",
      "     |          92,  93,  94,  95,  96,  97,  98,  99, 100]))\n",
      "     |  \n",
      "     |  This class is for creating a 100 sided (default count) die stored as a Pandas Dataframe. The number of faces and weights of the die will be adjustable to allow for the die to be used as any other die. \n",
      "     |  The die can also be customized by the weight to allow for either a fair sided die or a unfairly distributed die.The weights are just positive numbers (integers or floats, including  0).\n",
      "     |  Die() will initialize a Pandas DataFrame to be used through the class.\n",
      "     |  inputs: self; faces: Each face of the die will show a unique number associated with that side and its corresponding weight in a Pandas DataFrame. Created with a NumPy Array is mandatory.\n",
      "     |  \n",
      "     |  Methods defined here:\n",
      "     |  \n",
      "     |  __init__(self, faces=array([  1,   2,   3,   4,   5,   6,   7,   8,   9,  10,  11,  12,  13,\n",
      "     |          14,  15,  16,  17,  18,  19,  20,  21,  22,  23,  24,  25,  26,\n",
      "     |          27,  28,  29,  30,  31,  32,  33,  34,  35,  36,  37,  38,  39,\n",
      "     |          40,  41,  42,  43,  44,  45,  46,  47,  48,  49,  50,  51,  52,\n",
      "     |          53,  54,  55,  56,  57,  58,  59,  60,  61,  62,  63,  64,  65,\n",
      "     |          66,  67,  68,  69,  70,  71,  72,  73,  74,  75,  76,  77,  78,\n",
      "     |          79,  80,  81,  82,  83,  84,  85,  86,  87,  88,  89,  90,  91,\n",
      "     |          92,  93,  94,  95,  96,  97,  98,  99, 100]))\n",
      "     |      __init__: This intializer will serve to create the DataFrame, set the initial Face count to 100 unless otherwise fed an Numpy Array, and Weight is a distribution to 1.0 evenly.\n",
      "     |                It will also set the faces to the index of the DataFrame as Faces.\n",
      "     |      inputs: self; faces: will default to a Numpy Array of 1-100.\n",
      "     |      returns: No return values.\n",
      "     |  \n",
      "     |  die_roll(self, rolls=1)\n",
      "     |      die_roll: This method is used for rolling the create die using the DataFrame holding the data and a Random function random.choices to produce a random Face.\n",
      "     |                The default version does not internall store the results, however the internally stored version is commented out if otherwise wanted.\n",
      "     |      inputs: self; rolls: default to 1.\n",
      "     |      returns: An instance of rolling the die a number of times.\n",
      "     |  \n",
      "     |  new_weight(self)\n",
      "     |      new_weight: This method has user input questions used to decide which Faces to change weights for. It will then adjust the weights held for those Faces within the DataFrame.\n",
      "     |      inputs: self\n",
      "     |      returns: No return values.\n",
      "     |  \n",
      "     |  show_data(self, highlight=False)\n",
      "     |      show_data: This method is for displaying the full table of data with its Faces and their corresponding weights with changes highlighted along with a dataframe returned value.\n",
      "     |                 A custom function highlight_row() will also highlight any weights that do not have the default value of 1. Use display() to print this dataset.\n",
      "     |      inputs: self; highlight: default value is False andmethod returns a dataframe, any other input returns a display of the data and highlighted rows.\n",
      "     |      returns: A fully laid out copy of the private DataFrame if highlight = False, otherwise returns a display of the data and highlighted rows.\n",
      "     |  \n",
      "     |  ----------------------------------------------------------------------\n",
      "     |  Data descriptors defined here:\n",
      "     |  \n",
      "     |  __dict__\n",
      "     |      dictionary for instance variables (if defined)\n",
      "     |  \n",
      "     |  __weakref__\n",
      "     |      list of weak references to the object (if defined)\n",
      "    \n",
      "    class Game(builtins.object)\n",
      "     |  Game(dice)\n",
      "     |  \n",
      "     |  This class is for creating a Die rolling game that has the same number of sides for each die but the weights can vary for the die.\n",
      "     |  Each game is initialized with a Python list that contains one or more dice of the Die() object type.\n",
      "     |  Game objects have a behavior to play a game, i.e. to roll all of the dice a given number of times.\n",
      "     |  Game objects only keep the results of their most recent play.\n",
      "     |  inputs: self; dice: A Die() object wrapped in a python list to be a singular Die() or many.\n",
      "     |  \n",
      "     |  Methods defined here:\n",
      "     |  \n",
      "     |  __init__(self, dice)\n",
      "     |      __init__: This initializer will need a list of Die in a list format. It will insure that the number of entered Faces for each Die are equal.\n",
      "     |      inputs: self; dice: has no default as a list of Die's created through another class is required.\n",
      "     |      returns: No return values.\n",
      "     |  \n",
      "     |  play(self, dice_rolls=1)\n",
      "     |      play: This method is used for rolling all of the Dice given to the class a specified number of times and storing those results in a private dataframe.\n",
      "     |      inputs: self; dice_rolls: defaults to 1 for 1 rolling of each Die.\n",
      "     |      returns: No return values.\n",
      "     |  \n",
      "     |  results(self, df_format=1)\n",
      "     |      results: This method is used to display the rolling results in either a Wide (default) or Narrow formatted dataframe.\n",
      "     |      inputs: self; df_format: defaults to 1 and will only accept either 1 (corresponding to Wide) or 2 (corresponding to Narrow).\n",
      "     |      returns: A copy of the private dataframe in the specified format.\n",
      "     |  \n",
      "     |  ----------------------------------------------------------------------\n",
      "     |  Data descriptors defined here:\n",
      "     |  \n",
      "     |  __dict__\n",
      "     |      dictionary for instance variables (if defined)\n",
      "     |  \n",
      "     |  __weakref__\n",
      "     |      list of weak references to the object (if defined)\n",
      "\n",
      "FILE\n",
      "    /sfs/gpfs/tardis/home/epx8hh/Documents/MSDS/DS5100/DS5100-epx8hh/DS5100_Final_Project/Monte_Carlo_Simulator/Monte_Carlo_Simulator.py\n",
      "\n",
      "\n"
     ]
    }
   ],
   "source": [
    "help(Monte_Carlo_Simulator)"
   ]
  },
  {
   "cell_type": "markdown",
   "id": "a9defa84-b395-4966-bd1c-5c6c2bb7ed68",
   "metadata": {},
   "source": [
    "## `README.md` File (3)\n",
    "\n",
    "Provide link to the README.md file of your project's repo.\n",
    "\n",
    "- Metadata section or info present (1).\n",
    "- Synopsis section showing how each class is called (1). (All must be included.)\n",
    "- API section listing all classes and methods (1). (All must be included.)"
   ]
  },
  {
   "cell_type": "markdown",
   "id": "ee090b33-d593-48a0-bf35-e739cea0942c",
   "metadata": {},
   "source": [
    "URL: https://github.com/Lcocks/DS5100_Final_Project/blob/main/README.md"
   ]
  },
  {
   "cell_type": "markdown",
   "id": "108604c8-8827-42ef-ab59-6b25428fc0ca",
   "metadata": {},
   "source": [
    "## Successful installation (2)\n",
    "\n",
    "Put a screenshot or paste a copy of a terminal session where you successfully install your module with pip.\n",
    "\n",
    "If pasting text, use a preformatted text block to show the results.\n",
    "\n",
    "- Installed with `pip` (1).\n",
    "- Successfully installed message appears (1)."
   ]
  },
  {
   "cell_type": "raw",
   "id": "1278db6a-aa53-4e5c-a749-93a87ab239e0",
   "metadata": {},
   "source": [
    "epx8hh@rivanna> pip install .\n",
    "Defaulting to user installation because normal site-packages is not writeable\n",
    "Processing /sfs/gpfs/tardis/home/epx8hh/Documents/MSDS/DS5100/DS5100-epx8hh/DS5100_Final_Project\n",
    "  Preparing metadata (setup.py) ... done\n",
    "Building wheels for collected packages: Monte_Carlo_Simulator\n",
    "  Building wheel for Monte_Carlo_Simulator (setup.py) ... done\n",
    "  Created wheel for Monte_Carlo_Simulator: filename=Monte_Carlo_Simulator-0.1-py3-none-any.whl size=6389 sha256=1db2507d6744609763d8f9bf4a0368773dd4598ce719f10ce764054980d1e0fb\n",
    "  Stored in directory: /tmp/pip-ephem-wheel-cache-jwlnv6qt/wheels/fb/67/76/55de9df39f4c4519a2054d6bb7220a52115473bd6850c34145\n",
    "Successfully built Monte_Carlo_Simulator\n",
    "Installing collected packages: Monte_Carlo_Simulator\n",
    "Successfully installed Monte_Carlo_Simulator-0.1"
   ]
  },
  {
   "cell_type": "markdown",
   "id": "7c44695d-d1b3-4edf-9f94-e64d7446f199",
   "metadata": {},
   "source": [
    "# Scenarios\n",
    "\n",
    "Use code blocks to perform the tasks for each scenario.\n",
    "\n",
    "Be sure the outputs are visible before submitting."
   ]
  },
  {
   "cell_type": "markdown",
   "id": "e2479eae-6fc9-44cd-b8d7-9b22cb501f2a",
   "metadata": {
    "tags": []
   },
   "source": [
    "## Scenario 1: A 2-headed Coin (9)\n",
    "\n",
    "Task 1. Create a fair coin (with faces $H$ and $T$) and one unfair coin in which one of the faces has a weight of $5$ and the others $1$.\n",
    "\n",
    "- Fair coin created (1).\n",
    "- Unfair coin created with weight as specified (1)."
   ]
  },
  {
   "cell_type": "code",
   "execution_count": 171,
   "id": "55ce498e-c75f-4425-9e3e-b635bd6cd9e1",
   "metadata": {},
   "outputs": [
    {
     "name": "stdout",
     "output_type": "stream",
     "text": [
      "Fair Die:  \n",
      "        Weight\n",
      "Faces        \n",
      "H         1.0\n",
      "T         1.0\n"
     ]
    },
    {
     "name": "stdin",
     "output_type": "stream",
     "text": [
      "Changing all values? Enter Yes or No No\n",
      "Which face would you like to change the weight? note: All faces have a default weight of 1.0.\n",
      "Enter the information in a comma seperated numerical list. H\n",
      "What would you like the new weight to be? 5.0\n"
     ]
    },
    {
     "name": "stdout",
     "output_type": "stream",
     "text": [
      "Face(s) ['H'] have a new weight of 5.0.\n",
      "Unfair Die:  \n",
      "        Weight\n",
      "Faces        \n",
      "H         5.0\n",
      "T         1.0\n"
     ]
    }
   ],
   "source": [
    "from Monte_Carlo_Simulator.Monte_Carlo_Simulator import Die, Game, Analyzer #import inlcuded in README.md using this to call class name directly.\n",
    "import numpy as np\n",
    "import pandas as pd\n",
    "Die_Fair = Die(np.array(['H','T']))\n",
    "Die_Unfair = Die(np.array(['H','T']))\n",
    "print(\"Fair Die: \",'\\n', Die_Fair.show_data())\n",
    "Die_Unfair.new_weight() #Using user input through questions! I know it was not required but wanted a nice touch for communicating between user and program.\n",
    "print(\"Unfair Die: \", '\\n', Die_Unfair.show_data()) #Use returns DataFrame and in README optional argument show_data(2) requires display(...) to show highlights."
   ]
  },
  {
   "cell_type": "markdown",
   "id": "02b272ab-99da-4b6e-ac2a-555b73e09c07",
   "metadata": {},
   "source": [
    "Task 2. Play a game of $1000$ flips with two fair dice.\n",
    "\n",
    "- Play method called correclty and without error (1)."
   ]
  },
  {
   "cell_type": "code",
   "execution_count": 9,
   "id": "65c92601-d32d-4326-b215-74953aee27f2",
   "metadata": {},
   "outputs": [],
   "source": [
    "Game1 = Game([Die(np.arange(1,3)), Die(np.arange(1,3))])\n",
    "Game1.play(1000) #Use Game1.results() to display."
   ]
  },
  {
   "cell_type": "markdown",
   "id": "7d9c3dc8-22c1-4cae-81fb-d68d774a05d1",
   "metadata": {},
   "source": [
    "Task 3. Play another game (using a new Game object) of $1000$ flips, this time using two unfair dice and one fair die. For the second unfair die, you can use the same die object twice in the list of dice you pass to the Game object.\n",
    "\n",
    "- New game object created (1).\n",
    "- Play method called correclty and without error (1)."
   ]
  },
  {
   "cell_type": "code",
   "execution_count": 198,
   "id": "d4098bed-1eb2-4084-8d5e-9fda07c3be43",
   "metadata": {},
   "outputs": [],
   "source": [
    "Game2 = Game([Die_Fair, Die_Unfair, Die_Unfair]) #Dice from above\n",
    "Game2.play(1000)"
   ]
  },
  {
   "cell_type": "markdown",
   "id": "f690ebfc-fe71-4eb2-976d-7ac80ca6c23f",
   "metadata": {},
   "source": [
    "Task 4. For each game, use an Analyzer object to determine the raw frequency of jackpots — i.e. getting either all $H$s or all $T$s.\n",
    "\n",
    "- Analyzer objecs instantiated for both games (1).\n",
    "- Raw frequencies reported for both (1)."
   ]
  },
  {
   "cell_type": "code",
   "execution_count": 199,
   "id": "b26b8b7e-3be7-4476-a9a4-37d97536729e",
   "metadata": {},
   "outputs": [
    {
     "name": "stdout",
     "output_type": "stream",
     "text": [
      "Fair game analyzer with 2 die 497 out of 1000 flips are jackpots.\n",
      "Unfair game analyzer with 2 unfair and 1 fair die 358 out of 1000 flips are jackpots.\n"
     ]
    }
   ],
   "source": [
    "print(f\"Fair game analyzer with 2 die {Analyzer(Game1).jackpot()} out of 1000 flips are jackpots.\")\n",
    "print(f\"Unfair game analyzer with 2 unfair and 1 fair die {Analyzer(Game2).jackpot()} out of 1000 flips are jackpots.\")"
   ]
  },
  {
   "cell_type": "markdown",
   "id": "b73d233c-445e-40cd-8858-0c5e1f097105",
   "metadata": {},
   "source": [
    "Task 5. For each analyzer, compute relative frequency as the number of jackpots over the total number of rolls.\n",
    "\n",
    "- Both relative frequencies computed (1)."
   ]
  },
  {
   "cell_type": "code",
   "execution_count": 200,
   "id": "9a96b31b-1b9d-496e-be3e-4bf83c45ec3a",
   "metadata": {},
   "outputs": [
    {
     "name": "stdout",
     "output_type": "stream",
     "text": [
      "Fair game analyzer with 2 fair coins 49.7%.\n",
      "Unfair game analyzer with 2 unfair coins and 1 fair coin 35.8%.\n"
     ]
    }
   ],
   "source": [
    "print(f\"Fair game analyzer with 2 fair coins {Analyzer(Game1).jackpot() / 1000 * 100}%.\")\n",
    "print(f\"Unfair game analyzer with 2 unfair coins and 1 fair coin {Analyzer(Game2).jackpot() / 1000 * 100}%.\")"
   ]
  },
  {
   "cell_type": "markdown",
   "id": "a6e1e734-7f5c-4721-8ba4-2f3a424cf984",
   "metadata": {},
   "source": [
    "Task 6. Show your results, comparing the two relative frequencies, in a simple bar chart.\n",
    "\n",
    "- Bar chart plotted and correct (1)."
   ]
  },
  {
   "cell_type": "code",
   "execution_count": 211,
   "id": "473fa67c-aa53-4aa3-a0b7-e8772b3f6ed3",
   "metadata": {},
   "outputs": [
    {
     "data": {
      "text/plain": [
       "Text(0.5, 1.0, 'Game 1 & 2 Relative Frequencies of Jackpots')"
      ]
     },
     "execution_count": 211,
     "metadata": {},
     "output_type": "execute_result"
    },
    {
     "data": {
      "image/png": "[encoded data removed]",
      "text/plain": [
       "<Figure size 640x480 with 1 Axes>"
      ]
     },
     "metadata": {},
     "output_type": "display_data"
    }
   ],
   "source": [
    "import matplotlib.pyplot as plt\n",
    "plt.ylim(0.0,1.0)\n",
    "plt.bar(['2 Fair Dice', '3 Dice with 2 Unfair'], [(Analyzer(Game1).jackpot()/1000), (Analyzer(Game2).jackpot()/1000)])\n",
    "plt.title(\"Game 1 & 2 Relative Frequencies of Jackpots\")"
   ]
  },
  {
   "cell_type": "markdown",
   "id": "725cfa5b-e4b7-47c9-86aa-8d9e1fe6c8c7",
   "metadata": {},
   "source": [
    "## Scenario 2: A 6-sided Die (9)\n",
    "\n",
    "Task 1. Create three dice, each with six sides having the faces 1 through 6.\n",
    "\n",
    "- Three die objects created (1)."
   ]
  },
  {
   "cell_type": "code",
   "execution_count": 203,
   "id": "6a8bc611-325a-4e05-88d5-980e0a2cf7c5",
   "metadata": {},
   "outputs": [],
   "source": [
    "Die1 = Die(np.arange(1,7))\n",
    "Die2 = Die(np.arange(1,7))\n",
    "Die3 = Die(np.arange(1,7))"
   ]
  },
  {
   "cell_type": "markdown",
   "id": "2ed3ad26-fbe9-43bd-9ad7-f683a4191d12",
   "metadata": {},
   "source": [
    "Task 2. Convert one of the dice to an unfair one by weighting the face $6$ five times more than the other weights (i.e. it has weight of 5 and the others a weight of 1 each).\n",
    "\n",
    "- Unfair die created with proper call to weight change method (1)."
   ]
  },
  {
   "cell_type": "code",
   "execution_count": 204,
   "id": "e33dd18f-7f90-456d-a680-61c08a328e21",
   "metadata": {},
   "outputs": [
    {
     "name": "stdin",
     "output_type": "stream",
     "text": [
      "Which face would you like to change the weight? note: All faces have a default weight of 1.0.\n",
      "Enter the information in a comma seperated numerical list. 6\n",
      "What would you like the new weight to be? 5.0\n"
     ]
    },
    {
     "name": "stdout",
     "output_type": "stream",
     "text": [
      "Face(s) [6] have a new weight of 5.0.\n"
     ]
    }
   ],
   "source": [
    "Die3.new_weight()"
   ]
  },
  {
   "cell_type": "markdown",
   "id": "7f6c062a-4c5b-45b9-96b8-76a0354c7e47",
   "metadata": {},
   "source": [
    "Task 3. Convert another of the dice to be unfair by weighting the face $1$ five times more than the others.\n",
    "\n",
    "- Unfair die created with proper call to weight change method (1)."
   ]
  },
  {
   "cell_type": "code",
   "execution_count": 5,
   "id": "01133a4e-6b06-4246-8d90-8e6d6995be51",
   "metadata": {},
   "outputs": [
    {
     "name": "stdin",
     "output_type": "stream",
     "text": [
      "Which face would you like to change the weight? note: All faces have a default weight of 1.0.\n",
      "Enter the information in a comma seperated numerical list. 1\n",
      "What would you like the new weight to be? 5.0\n"
     ]
    },
    {
     "name": "stdout",
     "output_type": "stream",
     "text": [
      "Face(s) [1] have a new weight of 5.0.\n"
     ]
    }
   ],
   "source": [
    "Die2.new_weight()"
   ]
  },
  {
   "cell_type": "markdown",
   "id": "f0ed31cb-0a3c-4eb2-b85e-6ed6b2eb6e58",
   "metadata": {},
   "source": [
    "Task 4. Play a game of $10000$ rolls with $5$ fair dice.\n",
    "\n",
    "- Game class properly instantiated (1). \n",
    "- Play method called properly (1)."
   ]
  },
  {
   "cell_type": "code",
   "execution_count": 6,
   "id": "e92395a4-9ed8-4cb0-8c85-38768a784ffc",
   "metadata": {},
   "outputs": [],
   "source": [
    "Game3 = Game([Die(np.arange(1,7)), Die(np.arange(1,7)), Die(np.arange(1,7)), Die(np.arange(1,7)), Die(np.arange(1,7))])\n",
    "Game3.play(10000)"
   ]
  },
  {
   "cell_type": "markdown",
   "id": "7814b402-46a4-40e5-8141-20e05c3e646b",
   "metadata": {},
   "source": [
    "Task 5. Play another game of $10000$ rolls, this time with $2$ unfair dice, one as defined in steps #2 and #3 respectively, and $3$ fair dice.\n",
    "\n",
    "- Game class properly instantiated (1). \n",
    "- Play method called properly (1)."
   ]
  },
  {
   "cell_type": "code",
   "execution_count": 7,
   "id": "7cd58fba-b2a5-4d5d-bc6d-2a7a68d18c4f",
   "metadata": {},
   "outputs": [],
   "source": [
    "Game4 = Game([Die2, Die3, Die(np.arange(1,7)), Die(np.arange(1,7)), Die(np.arange(1,7))])\n",
    "Game4.play(10000)"
   ]
  },
  {
   "cell_type": "markdown",
   "id": "7b6cd372-2bb8-4df8-ade1-8f48bc300955",
   "metadata": {},
   "source": [
    "Task 6. For each game, use an Analyzer object to determine the relative frequency of jackpots and show your results, comparing the two relative frequencies, in a simple bar chart.\n",
    "\n",
    "- Jackpot methods called (1).\n",
    "- Graph produced (1)."
   ]
  },
  {
   "cell_type": "code",
   "execution_count": 210,
   "id": "bbdcf695-8937-406e-9b53-aa0b9ee3c59a",
   "metadata": {},
   "outputs": [
    {
     "name": "stdout",
     "output_type": "stream",
     "text": [
      "Fair game analyzer with 5 fair die 0.7000000000000001%.\n",
      "Unfair game analyzer with 2 unfair die and 3 fair die 0.4%.\n"
     ]
    },
    {
     "data": {
      "text/plain": [
       "Text(0.5, 1.0, 'Game 3 & 4 Relative Frequencies of Jackpots')"
      ]
     },
     "execution_count": 210,
     "metadata": {},
     "output_type": "execute_result"
    },
    {
     "data": {
      "image/png": "[encoded data removed]",
      "text/plain": [
       "<Figure size 640x480 with 1 Axes>"
      ]
     },
     "metadata": {},
     "output_type": "display_data"
    }
   ],
   "source": [
    "print(f\"Fair game analyzer with 5 fair die {Analyzer(Game3).jackpot() / 1000 * 100}%.\")\n",
    "print(f\"Unfair game analyzer with 2 unfair die and 3 fair die {Analyzer(Game4).jackpot() / 1000 * 100}%.\")\n",
    "\n",
    "plt.bar(['5 Fair Dice', '5 Dice with 2 Unfair'], [(Analyzer(Game3).jackpot()/1000), (Analyzer(Game4).jackpot()/1000)])\n",
    "plt.title(\"Game 3 & 4 Relative Frequencies of Jackpots\")"
   ]
  },
  {
   "cell_type": "markdown",
   "id": "9f04e9be-8fcf-4ea4-a391-6614608285f8",
   "metadata": {},
   "source": [
    "## Scenario 3: Letters of the Alphabet (7)\n",
    "\n",
    "Task 1. Create a \"die\" of letters from $A$ to $Z$ with weights based on their frequency of usage as found in the data file `english_letters.txt`. Use the frequencies (i.e. raw counts) as weights.\n",
    "\n",
    "- Die correctly instantiated with source file data (1).\n",
    "- Weights properly applied using weight setting method (1)."
   ]
  },
  {
   "cell_type": "code",
   "execution_count": 91,
   "id": "b0ceb771-3cdf-4d8f-8c2c-020806bbb909",
   "metadata": {},
   "outputs": [
    {
     "name": "stdin",
     "output_type": "stream",
     "text": [
      "Changing all values? Enter Yes or No Yes\n",
      "List the weights in a comma seperated list with the total number of weights matching the total number of letters used to create the Die(). 374061888, 70195826, 138416451, 169330528, 529117365, 95422055, 91258980, 216768975, 320410057, 9613410, 35373464, 183996130, 110504544, 313720540, 326627740, 90376747, 4550166, 277000841, 294300210, 390965105, 117295780, 46337161, 79843664, 8369915, 75294515, 4975847\n"
     ]
    },
    {
     "name": "stdout",
     "output_type": "stream",
     "text": [
      "All faces have their new weights.\n"
     ]
    }
   ],
   "source": [
    "Die_Alpha = Die(np.array(['a', 'b', 'c', 'd', 'e','f', 'g', 'h', 'i', 'j', 'k', 'l', 'm', 'n', 'o', 'p', 'q', 'r', 's', 't', 'u', 'v', 'w', 'x', 'y', 'z']))\n",
    "Die_Alpha.new_weight()"
   ]
  },
  {
   "cell_type": "markdown",
   "id": "88e2e14a-6223-470a-a2c8-bca1120d7a5b",
   "metadata": {},
   "source": [
    "Task 2. Play a game involving $4$ of these dice with $1000$ rolls.\n",
    "\n",
    "- Game play method properly called (1)."
   ]
  },
  {
   "cell_type": "code",
   "execution_count": 165,
   "id": "2ae087cc-936d-4f1e-bddb-a7c179d139e0",
   "metadata": {},
   "outputs": [],
   "source": [
    "Game_Alpha = Game([Die_Alpha, Die_Alpha, Die_Alpha, Die_Alpha])\n",
    "Game_Alpha.play(1000)"
   ]
  },
  {
   "cell_type": "markdown",
   "id": "3b9ff800-bf1f-4f66-9d7f-ff57a648e9f0",
   "metadata": {},
   "source": [
    "Task 3. Determine how many permutations in your results are actual English words, based on the vocabulary found in `scrabble_words.txt`.\n",
    "\n",
    "- Use permutation method (1).\n",
    "- Get count as difference between permutations and vocabulary (1)."
   ]
  },
  {
   "cell_type": "code",
   "execution_count": 166,
   "id": "ed1c7fa0-cfa3-4cf4-9fd0-9f84b86b0f64",
   "metadata": {},
   "outputs": [
    {
     "name": "stdout",
     "output_type": "stream",
     "text": [
      "CPU times: user 2 µs, sys: 0 ns, total: 2 µs\n",
      "Wall time: 3.81 µs\n",
      "The total number of words created are 49.\n"
     ]
    }
   ],
   "source": [
    "from time import time\n",
    "words = pd.read_csv(\"../Final_Project_Dev/scrabble_words.txt\", header=None)\n",
    "words = words.applymap(lambda x: x.strip().lower() if isinstance(x, str) else x)\n",
    "perms = Analyzer(Game_Alpha).permutation()\n",
    "_count = 0\n",
    "%time\n",
    "for i, j in enumerate(perms['Combination']):\n",
    "    j = ''.join(j)\n",
    "    if j in words[0].values:\n",
    "        _count += 1\n",
    "print(f\"The total number of words created are {_count}.\")"
   ]
  },
  {
   "cell_type": "markdown",
   "id": "fcf068cf-381a-4b3e-ac3a-0510eb4dbdb0",
   "metadata": {},
   "source": [
    "Task 4. Repeat steps #2 and #3, this time with $5$ dice. How many actual words does this produce? Which produces more?\n",
    "\n",
    "- Successfully repreats steps (1).\n",
    "- Identifies parameter with most found words (1)."
   ]
  },
  {
   "cell_type": "code",
   "execution_count": 167,
   "id": "9414015d-40b0-43d1-9d13-909ff04b3114",
   "metadata": {},
   "outputs": [
    {
     "name": "stdout",
     "output_type": "stream",
     "text": [
      "CPU times: user 2 µs, sys: 0 ns, total: 2 µs\n",
      "Wall time: 3.58 µs\n",
      "The total number of words created for Game_Alpha with 4 die is 49 vs Game_Alpha2 with 5 die is 8.\n"
     ]
    }
   ],
   "source": [
    "Game_Alpha2 = Game([Die_Alpha, Die_Alpha, Die_Alpha, Die_Alpha, Die_Alpha])\n",
    "Game_Alpha2.play(1000)\n",
    "perms = Analyzer(Game_Alpha2).permutation()\n",
    "_count2 = 0\n",
    "%time\n",
    "for i, j in enumerate(perms['Combination']):\n",
    "    j = ''.join(j)\n",
    "    if j in words[0].values:\n",
    "        _count2 += 1\n",
    "print(f\"The total number of words created for Game_Alpha with 4 die is {_count} vs Game_Alpha2 with 5 die is {_count2}.\")"
   ]
  }
 ],
 "metadata": {
  "kernelspec": {
   "display_name": "Python 3 (ipykernel)",
   "language": "python",
   "name": "python3"
  },
  "language_info": {
   "codemirror_mode": {
    "name": "ipython",
    "version": 3
   },
   "file_extension": ".py",
   "mimetype": "text/x-python",
   "name": "python",
   "nbconvert_exporter": "python",
   "pygments_lexer": "ipython3",
   "version": "3.11.4"
  },
  "toc-autonumbering": true,
  "widgets": {
   "application/vnd.jupyter.widget-state+json": {
    "state": {},
    "version_major": 2,
    "version_minor": 0
   }
  }
 },
 "nbformat": 4,
 "nbformat_minor": 5
}
