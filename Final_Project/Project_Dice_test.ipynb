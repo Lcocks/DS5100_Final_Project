{
 "cells": [
  {
   "cell_type": "code",
   "execution_count": 2,
   "id": "f4636d54-a4bf-4661-b2a9-ae9c38fba769",
   "metadata": {
    "tags": []
   },
   "outputs": [
    {
     "name": "stderr",
     "output_type": "stream",
     "text": [
      "E\n",
      "======================================================================\n",
      "ERROR: /sfs/gpfs/tardis/home/epx8hh/ (unittest.loader._FailedTest./sfs/gpfs/tardis/home/epx8hh/)\n",
      "----------------------------------------------------------------------\n",
      "AttributeError: module '__main__' has no attribute '/sfs/gpfs/tardis/home/epx8hh/'\n",
      "\n",
      "----------------------------------------------------------------------\n",
      "Ran 1 test in 0.001s\n",
      "\n",
      "FAILED (errors=1)\n"
     ]
    },
    {
     "ename": "SystemExit",
     "evalue": "True",
     "output_type": "error",
     "traceback": [
      "An exception has occurred, use %tb to see the full traceback.\n",
      "\u001b[0;31mSystemExit\u001b[0m\u001b[0;31m:\u001b[0m True\n"
     ]
    },
    {
     "name": "stderr",
     "output_type": "stream",
     "text": [
      "/apps/software/standard/core/jupyterlab/3.6.3-py3.11/lib/python3.11/site-packages/IPython/core/interactiveshell.py:3513: UserWarning: To exit: use 'exit', 'quit', or Ctrl-D.\n",
      "  warn(\"To exit: use 'exit', 'quit', or Ctrl-D.\", stacklevel=1)\n"
     ]
    }
   ],
   "source": [
    "#Project_Dice_test.py\n",
    "from unittest import mock\n",
    "import unittest\n",
    "from Project_Dice import Die, Game, Analyzer\n",
    "\n",
    "class test_objectSuite(unittest.TestCase):\n",
    "    \"\"\"\n",
    "    This class is for testing the Project_Dice.py file and it corresponding classes and methods.\n",
    "    From unittest - mock will allow for inputs made by a user to be preset for testing.\n",
    "    \"\"\"\n",
    "    @mock.patch('Project_Dice.input', create=True)\n",
    "    \n",
    "    #Die()\n",
    "    def test_1_new_weight(self, mocked_input):\n",
    "        \n",
    "        mocked_input.side_effect = ['1,2,3', '1.5']\n",
    "        \n",
    "        test_object = Die()\n",
    "        test_object.new_weight() #The mocked_input.side_effect is the input values 1,2,3 for the Faces selected then the input is 1.0 for what to change the weights of the faces too.\n",
    "        \n",
    "        default = Die()\n",
    "\n",
    "        self.assertNotEqual(test_object.df.loc[1,'Weight'], default.df.loc[1,'Weight'])\n",
    "        \n",
    "    def test_2_die_roll(self):\n",
    "        \n",
    "        test_object = Die()\n",
    "        \n",
    "        self.assert\n",
    "    \n",
    "        \n",
    "if __name__ == '__main__':\n",
    "    \n",
    "    unittest.main()"
   ]
  },
  {
   "cell_type": "code",
   "execution_count": 3,
   "id": "ee3cb33e-e3f7-4fb3-9311-6b62ecee9abf",
   "metadata": {
    "tags": []
   },
   "outputs": [
    {
     "data": {
      "text/plain": [
       "1.0"
      ]
     },
     "execution_count": 3,
     "metadata": {},
     "output_type": "execute_result"
    }
   ],
   "source": [
    "Case1 = Die()\n",
    "Case1.df.loc[1,'Weight']\n"
   ]
  },
  {
   "cell_type": "code",
   "execution_count": 4,
   "id": "df33b183-83c7-429e-ac76-22f8d343d90e",
   "metadata": {
    "tags": []
   },
   "outputs": [
    {
     "data": {
      "text/plain": [
       "<Project_Dice.Game at 0x7fcbf17dac10>"
      ]
     },
     "execution_count": 4,
     "metadata": {},
     "output_type": "execute_result"
    }
   ],
   "source": [
    "Case1 = Game([Case1])\n",
    "Case1"
   ]
  },
  {
   "cell_type": "code",
   "execution_count": 5,
   "id": "963044e8-b335-4304-8560-9e82bf8cbe33",
   "metadata": {
    "tags": []
   },
   "outputs": [
    {
     "data": {
      "text/plain": [
       "<Project_Dice.Analyzer at 0x7fcbf17db690>"
      ]
     },
     "execution_count": 5,
     "metadata": {},
     "output_type": "execute_result"
    }
   ],
   "source": [
    "Case1 = Analyzer(Case1)\n",
    "Case1"
   ]
  },
  {
   "cell_type": "code",
   "execution_count": null,
   "id": "c683450e-9d0e-4420-ae32-a649a3907c5f",
   "metadata": {},
   "outputs": [],
   "source": []
  }
 ],
 "metadata": {
  "kernelspec": {
   "display_name": "Python 3 (ipykernel)",
   "language": "python",
   "name": "python3"
  },
  "language_info": {
   "codemirror_mode": {
    "name": "ipython",
    "version": 3
   },
   "file_extension": ".py",
   "mimetype": "text/x-python",
   "name": "python",
   "nbconvert_exporter": "python",
   "pygments_lexer": "ipython3",
   "version": "3.11.4"
  }
 },
 "nbformat": 4,
 "nbformat_minor": 5
}
